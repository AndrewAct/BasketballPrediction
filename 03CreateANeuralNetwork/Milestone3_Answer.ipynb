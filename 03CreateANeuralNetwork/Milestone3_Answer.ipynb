{
  "nbformat": 4,
  "nbformat_minor": 0,
  "metadata": {
    "colab": {
      "name": "Milestone3-Answer.ipynb",
      "provenance": [],
      "collapsed_sections": [],
      "authorship_tag": "ABX9TyMiT6ZrXJomAF1eTo4qisN0"
    },
    "kernelspec": {
      "name": "python3",
      "display_name": "Python 3"
    }
  },
  "cells": [
    {
      "cell_type": "markdown",
      "metadata": {
        "id": "sE_jC7KK8cmf",
        "colab_type": "text"
      },
      "source": [
        "# Create a neural network with Keras"
      ]
    },
    {
      "cell_type": "code",
      "metadata": {
        "id": "XBTdDaTD8WMf",
        "colab_type": "code",
        "colab": {}
      },
      "source": [
        "from __future__ import absolute_import, division, print_function\n",
        "\n",
        "import tensorflow as tf\n",
        "from tensorflow import keras\n",
        "\n",
        "import pandas as pd\n",
        "import numpy as np\n",
        "import matplotlib.pyplot as plt"
      ],
      "execution_count": null,
      "outputs": []
    },
    {
      "cell_type": "markdown",
      "metadata": {
        "id": "DrUJnaMH8mlj",
        "colab_type": "text"
      },
      "source": [
        "## Create a sequential neural network with 3 dense layers, and compile  \n",
        "\n",
        "### Parameters\n",
        "**Sequential** ([Documantaion](https://keras.io/api/models/sequential/)): A sequential network runs linearly through the layers.  \n",
        "**Dense** ([Documentaion](https://keras.io/api/layers/core_layers/dense/)): A densely connected network layer. This is the standard for most neural networks.  \n",
        "**Neurons/Units**: We set these to 32 to start. This is the dimensionality of the output space. Since we just want a final score differences we set the last value to 1.  \n",
        "**Input Shape**: This is the size of the data you are using to train. In our case, we have home team score, away team score, home team defense and away team defense. So, we set this value to 4.  \n",
        "**Activation** ([Documentation](https://keras.io/api/layers/activations/#relu-function)): We picked Recified Linear Unit (relu). Using trial and error you can determine which one is best for your data. There are some activations that are for specific network results.  \n",
        "**Optimizers** ([Documentation](https://keras.io/api/optimizers/rmsprop/)): Optimizers are used during training to try and find the global optimum which will lead to better results. We chose RMSProp as a general purpose optimizer.  \n",
        "**Metrics** ([Documentation](https://keras.io/api/metrics/)): This array determines what values are tracked and returned during training. We will use these to graph our results and determine how well our model is representing our data.  \n",
        "**Loss Function** ([Documentation](https://keras.io/api/losses/)): The loss function is what is computed to determine how good or bad our output matches our expected results."
      ]
    },
    {
      "cell_type": "code",
      "metadata": {
        "id": "uiJ1VLLW9GHS",
        "colab_type": "code",
        "colab": {}
      },
      "source": [
        "def Build_Model():\n",
        "  model = keras.models.Sequential([\n",
        "    keras.layers.Dense(32, activation='relu', input_shape=[4]),\n",
        "    keras.layers.Dense(32, activation='relu'),\n",
        "    keras.layers.Dense(1)                                   \n",
        "  ])\n",
        "  \n",
        "  opt = keras.optimizers.RMSprop()\n",
        "  m = [\n",
        "       keras.metrics.MeanAbsoluteError(),\n",
        "       keras.metrics.Accuracy(),\n",
        "       keras.metrics.MeanSquaredError()\n",
        "  ]\n",
        "  l = keras.losses.MeanSquaredError()\n",
        "  \n",
        "  model.compile(loss=l, optimizer=opt, metrics=m)\n",
        "  return model"
      ],
      "execution_count": null,
      "outputs": []
    },
    {
      "cell_type": "code",
      "metadata": {
        "id": "E9TlEsfx-Vgg",
        "colab_type": "code",
        "colab": {}
      },
      "source": [
        "bballmodel = Build_Model()"
      ],
      "execution_count": null,
      "outputs": []
    },
    {
      "cell_type": "code",
      "metadata": {
        "id": "zNytbkwND2eC",
        "colab_type": "code",
        "colab": {}
      },
      "source": [
        "# This method will be used in place of the normal output. This is cleaner in my opinion\n",
        "class PrintDoc(keras.callbacks.Callback):\n",
        "  def on_epoch_end(self, epoch, logs):\n",
        "    if epoch % 10 == 0: print('')\n",
        "    print('.', end='')"
      ],
      "execution_count": null,
      "outputs": []
    },
    {
      "cell_type": "markdown",
      "metadata": {
        "id": "mm7WOh34Jz73",
        "colab_type": "text"
      },
      "source": [
        "### Model Complexity  \n",
        "I am going to take this section to talk about the complexity of the model as well as high bias and high variance.\n",
        "\n",
        "**Bias**: A model with low model complexity with a high error rate is said to have high bias. The high bias comes from underfitting the data.  \n",
        "\n",
        "**Variance**: A model with high complexity with a high error rate is said to have high variance. The high variance comes from overfitting the data.\n"
      ]
    },
    {
      "cell_type": "markdown",
      "metadata": {
        "id": "Nt_1jf1yEaTD",
        "colab_type": "text"
      },
      "source": [
        "# Train/Test/Validate the network"
      ]
    },
    {
      "cell_type": "code",
      "metadata": {
        "id": "DcnDGKkjFEvN",
        "colab_type": "code",
        "colab": {
          "base_uri": "https://localhost:8080/",
          "height": 204
        },
        "outputId": "aa7ea336-a929-40d0-e50b-abdc1668256f"
      },
      "source": [
        "#Load the data set from the last milestone 1\n",
        "column_names = ['Date','HomeTeam','HomeScore','AwayTeam','AwayScore',\n",
        "                'HomeScoreAverage','HomeDefenseAverage','AwayScoreAverage','AwayDefenseAverage',\n",
        "                'Result']\n",
        "\n",
        "games_csv = 'https://liveproject-resources.s3.amazonaws.com/other/deeplearningbasketballscores/Games-Calculated.csv'\n",
        "all_data = pd.read_csv(games_csv, header=None, names=column_names)\n",
        "all_data.head()"
      ],
      "execution_count": null,
      "outputs": [
        {
          "output_type": "execute_result",
          "data": {
            "text/html": [
              "<div>\n",
              "<style scoped>\n",
              "    .dataframe tbody tr th:only-of-type {\n",
              "        vertical-align: middle;\n",
              "    }\n",
              "\n",
              "    .dataframe tbody tr th {\n",
              "        vertical-align: top;\n",
              "    }\n",
              "\n",
              "    .dataframe thead th {\n",
              "        text-align: right;\n",
              "    }\n",
              "</style>\n",
              "<table border=\"1\" class=\"dataframe\">\n",
              "  <thead>\n",
              "    <tr style=\"text-align: right;\">\n",
              "      <th></th>\n",
              "      <th>Date</th>\n",
              "      <th>HomeTeam</th>\n",
              "      <th>HomeScore</th>\n",
              "      <th>AwayTeam</th>\n",
              "      <th>AwayScore</th>\n",
              "      <th>HomeScoreAverage</th>\n",
              "      <th>HomeDefenseAverage</th>\n",
              "      <th>AwayScoreAverage</th>\n",
              "      <th>AwayDefenseAverage</th>\n",
              "      <th>Result</th>\n",
              "    </tr>\n",
              "  </thead>\n",
              "  <tbody>\n",
              "    <tr>\n",
              "      <th>0</th>\n",
              "      <td>2015-11-13</td>\n",
              "      <td>Hawaii</td>\n",
              "      <td>87</td>\n",
              "      <td>Montana State</td>\n",
              "      <td>76</td>\n",
              "      <td>87.0</td>\n",
              "      <td>76.0</td>\n",
              "      <td>76.0</td>\n",
              "      <td>87.0</td>\n",
              "      <td>11</td>\n",
              "    </tr>\n",
              "    <tr>\n",
              "      <th>1</th>\n",
              "      <td>2015-11-13</td>\n",
              "      <td>Eastern Michigan</td>\n",
              "      <td>70</td>\n",
              "      <td>Vermont</td>\n",
              "      <td>50</td>\n",
              "      <td>70.0</td>\n",
              "      <td>50.0</td>\n",
              "      <td>50.0</td>\n",
              "      <td>70.0</td>\n",
              "      <td>20</td>\n",
              "    </tr>\n",
              "    <tr>\n",
              "      <th>2</th>\n",
              "      <td>2015-11-13</td>\n",
              "      <td>Yale</td>\n",
              "      <td>70</td>\n",
              "      <td>Fairfield</td>\n",
              "      <td>57</td>\n",
              "      <td>70.0</td>\n",
              "      <td>57.0</td>\n",
              "      <td>57.0</td>\n",
              "      <td>70.0</td>\n",
              "      <td>13</td>\n",
              "    </tr>\n",
              "    <tr>\n",
              "      <th>3</th>\n",
              "      <td>2015-11-13</td>\n",
              "      <td>Central Michigan</td>\n",
              "      <td>89</td>\n",
              "      <td>Jacksonville State</td>\n",
              "      <td>83</td>\n",
              "      <td>89.0</td>\n",
              "      <td>83.0</td>\n",
              "      <td>83.0</td>\n",
              "      <td>89.0</td>\n",
              "      <td>6</td>\n",
              "    </tr>\n",
              "    <tr>\n",
              "      <th>4</th>\n",
              "      <td>2015-11-13</td>\n",
              "      <td>Iowa State</td>\n",
              "      <td>68</td>\n",
              "      <td>Colorado</td>\n",
              "      <td>62</td>\n",
              "      <td>68.0</td>\n",
              "      <td>62.0</td>\n",
              "      <td>62.0</td>\n",
              "      <td>68.0</td>\n",
              "      <td>6</td>\n",
              "    </tr>\n",
              "  </tbody>\n",
              "</table>\n",
              "</div>"
            ],
            "text/plain": [
              "         Date          HomeTeam  ...  AwayDefenseAverage Result\n",
              "0  2015-11-13            Hawaii  ...                87.0     11\n",
              "1  2015-11-13  Eastern Michigan  ...                70.0     20\n",
              "2  2015-11-13              Yale  ...                70.0     13\n",
              "3  2015-11-13  Central Michigan  ...                89.0      6\n",
              "4  2015-11-13        Iowa State  ...                68.0      6\n",
              "\n",
              "[5 rows x 10 columns]"
            ]
          },
          "metadata": {
            "tags": []
          },
          "execution_count": 5
        }
      ]
    },
    {
      "cell_type": "markdown",
      "metadata": {
        "id": "LNfgMYwJEc1u",
        "colab_type": "text"
      },
      "source": [
        "## Create the Train/Test/Validate data sets  \n",
        "\n",
        "### All about data  \n",
        "When training a network we need to send in data for it to learn. We can't then use the same data to test if it is learning. It would be like working a problem in school and then get that same problem on the test. All it proves is you know that data. We need the model to generalize the data versus knowing the actual data.\n",
        "\n",
        "**Generalization** is a term used to describe the model's ability to understand new data it hasn't seen before. In this project, we need to generalize to all games in the future versus the individual games in the past. When the model doesn't generalize it gets into a scenario where it overfits.  \n",
        "\n",
        "**Overfitting** is a term used to describe when the model only learns the data it has versus the new data. You can see this visually in the graph of the errors resulting from training. You will see that your training errors will decrease while your validation errors will start to increase again.  \n",
        "\n",
        "### Splits  \n",
        "As stated above, we need to ensure we don't overfit to the data. To handle this we need to separate the data into 3 data sets (With the way Keras handles the validation within the network we only create 2). In my example, I used 80% of train (which will get split 80/20 for validation) and 20% for testing. This allows me plenty of randomized data to test my model.  \n",
        "\n",
        "### Data Labels  \n",
        "You will notice that I remove the *Results* column and name those as the labels. The labels are used as the answers or truth in the network. When the network gets the data it will then try and predict its own label and compare it versus the correct label. After they get the error (we use mean square error) it uses an algorithm called backpropagation to go back through all the weights and biases in the nodes to attempt to get the answer correct next time.  \n",
        "\n",
        "### Data Normalization  \n",
        "At the end of the code I normalize all of the data. The reason for me doing this is to ensure that the scale of the values are all similiar. If our first input ranges from 30 to 120 and the second input ranges from 2 to 10 the first input will have an outsized impact on our learning.\n"
      ]
    },
    {
      "cell_type": "code",
      "metadata": {
        "id": "DVWT-C-XEZEi",
        "colab_type": "code",
        "colab": {
          "base_uri": "https://localhost:8080/",
          "height": 51
        },
        "outputId": "da791684-d94d-4abb-e5a6-c1f63288ed53"
      },
      "source": [
        "# Drop the columns that we are NOT going to train on\n",
        "all_data.drop(['Date','HomeTeam','HomeScore','AwayTeam','AwayScore'], axis=1, inplace=True)\n",
        "all_data.tail()\n",
        "\n",
        "#Break it into 80/20 splits\n",
        "train = all_data.sample(frac=0.8, random_state=0)\n",
        "test = all_data.drop(train.index)\n",
        "print('Training Size: %s' % train.shape[0])\n",
        "print('Testing Size: %s' % test.shape[0])\n",
        "\n",
        "#Create the labels\n",
        "train_labels = train.pop('Result')\n",
        "test_labels = test.pop('Result')\n",
        "\n",
        "# Normalize the data\n",
        "mean = train.mean(axis=0)\n",
        "train_data = train - mean\n",
        "std = train_data.std(axis=0)\n",
        "train_data /= std\n",
        "\n",
        "test_data = test - mean\n",
        "test_data /= std"
      ],
      "execution_count": null,
      "outputs": [
        {
          "output_type": "stream",
          "text": [
            "Training Size: 16128\n",
            "Testing Size: 4032\n"
          ],
          "name": "stdout"
        }
      ]
    },
    {
      "cell_type": "markdown",
      "metadata": {
        "id": "ACECblTNEicr",
        "colab_type": "text"
      },
      "source": [
        "## Train the neural network  \n",
        "\n",
        "### Parameter\n",
        "`fit` ([Documentation](https://keras.io/api/models/model_training_apis/#fit-method)): Fit is the method that does the training. We pass in our training values, our expected results, the number of epochs to train, the validation split, the level of logging, and finally we pass in our printing method."
      ]
    },
    {
      "cell_type": "code",
      "metadata": {
        "id": "GfdjEyEJGT-d",
        "colab_type": "code",
        "colab": {
          "base_uri": "https://localhost:8080/",
          "height": 204
        },
        "outputId": "583ba8c2-deeb-4152-e669-6b6f563cf886"
      },
      "source": [
        "history = bballmodel.fit(train_data, train_labels, epochs=100, validation_split=0.2, verbose=0, callbacks=[PrintDoc()])"
      ],
      "execution_count": null,
      "outputs": [
        {
          "output_type": "stream",
          "text": [
            "\n",
            "..........\n",
            "..........\n",
            "..........\n",
            "..........\n",
            "..........\n",
            "..........\n",
            "..........\n",
            "..........\n",
            "..........\n",
            ".........."
          ],
          "name": "stdout"
        }
      ]
    },
    {
      "cell_type": "code",
      "metadata": {
        "id": "YixAP6aVIUZt",
        "colab_type": "code",
        "colab": {
          "base_uri": "https://localhost:8080/",
          "height": 204
        },
        "outputId": "98d0d0ed-a48d-44a4-d455-a29b493331f8"
      },
      "source": [
        "# Check the results\n",
        "# Create a DataFrame from the output from the fit method\n",
        "hist = pd.DataFrame(history.history)\n",
        "# Create an epoch column and set it to the epoch index\n",
        "hist['epoch'] = history.epoch\n",
        "hist.tail()"
      ],
      "execution_count": null,
      "outputs": [
        {
          "output_type": "execute_result",
          "data": {
            "text/html": [
              "<div>\n",
              "<style scoped>\n",
              "    .dataframe tbody tr th:only-of-type {\n",
              "        vertical-align: middle;\n",
              "    }\n",
              "\n",
              "    .dataframe tbody tr th {\n",
              "        vertical-align: top;\n",
              "    }\n",
              "\n",
              "    .dataframe thead th {\n",
              "        text-align: right;\n",
              "    }\n",
              "</style>\n",
              "<table border=\"1\" class=\"dataframe\">\n",
              "  <thead>\n",
              "    <tr style=\"text-align: right;\">\n",
              "      <th></th>\n",
              "      <th>loss</th>\n",
              "      <th>mean_absolute_error</th>\n",
              "      <th>accuracy</th>\n",
              "      <th>mean_squared_error</th>\n",
              "      <th>val_loss</th>\n",
              "      <th>val_mean_absolute_error</th>\n",
              "      <th>val_accuracy</th>\n",
              "      <th>val_mean_squared_error</th>\n",
              "      <th>epoch</th>\n",
              "    </tr>\n",
              "  </thead>\n",
              "  <tbody>\n",
              "    <tr>\n",
              "      <th>95</th>\n",
              "      <td>84.825653</td>\n",
              "      <td>7.091116</td>\n",
              "      <td>0.0</td>\n",
              "      <td>84.825653</td>\n",
              "      <td>89.628128</td>\n",
              "      <td>7.295441</td>\n",
              "      <td>0.0</td>\n",
              "      <td>89.628128</td>\n",
              "      <td>95</td>\n",
              "    </tr>\n",
              "    <tr>\n",
              "      <th>96</th>\n",
              "      <td>84.773827</td>\n",
              "      <td>7.081933</td>\n",
              "      <td>0.0</td>\n",
              "      <td>84.773827</td>\n",
              "      <td>89.807281</td>\n",
              "      <td>7.323231</td>\n",
              "      <td>0.0</td>\n",
              "      <td>89.807281</td>\n",
              "      <td>96</td>\n",
              "    </tr>\n",
              "    <tr>\n",
              "      <th>97</th>\n",
              "      <td>84.788231</td>\n",
              "      <td>7.087365</td>\n",
              "      <td>0.0</td>\n",
              "      <td>84.788231</td>\n",
              "      <td>89.080849</td>\n",
              "      <td>7.272832</td>\n",
              "      <td>0.0</td>\n",
              "      <td>89.080849</td>\n",
              "      <td>97</td>\n",
              "    </tr>\n",
              "    <tr>\n",
              "      <th>98</th>\n",
              "      <td>84.734123</td>\n",
              "      <td>7.086490</td>\n",
              "      <td>0.0</td>\n",
              "      <td>84.734123</td>\n",
              "      <td>89.620514</td>\n",
              "      <td>7.287719</td>\n",
              "      <td>0.0</td>\n",
              "      <td>89.620514</td>\n",
              "      <td>98</td>\n",
              "    </tr>\n",
              "    <tr>\n",
              "      <th>99</th>\n",
              "      <td>84.698662</td>\n",
              "      <td>7.085078</td>\n",
              "      <td>0.0</td>\n",
              "      <td>84.698662</td>\n",
              "      <td>89.373047</td>\n",
              "      <td>7.295228</td>\n",
              "      <td>0.0</td>\n",
              "      <td>89.373047</td>\n",
              "      <td>99</td>\n",
              "    </tr>\n",
              "  </tbody>\n",
              "</table>\n",
              "</div>"
            ],
            "text/plain": [
              "         loss  mean_absolute_error  ...  val_mean_squared_error  epoch\n",
              "95  84.825653             7.091116  ...               89.628128     95\n",
              "96  84.773827             7.081933  ...               89.807281     96\n",
              "97  84.788231             7.087365  ...               89.080849     97\n",
              "98  84.734123             7.086490  ...               89.620514     98\n",
              "99  84.698662             7.085078  ...               89.373047     99\n",
              "\n",
              "[5 rows x 9 columns]"
            ]
          },
          "metadata": {
            "tags": []
          },
          "execution_count": 33
        }
      ]
    },
    {
      "cell_type": "code",
      "metadata": {
        "id": "4DzXUnTvJMY9",
        "colab_type": "code",
        "colab": {
          "base_uri": "https://localhost:8080/",
          "height": 34
        },
        "outputId": "f8428494-b931-4679-c2ee-022ac6785845"
      },
      "source": [
        "# Test the network against your testing data set\n",
        "test_loss, mae, test_acc, mse = bballmodel.evaluate(test_data, test_labels)"
      ],
      "execution_count": null,
      "outputs": [
        {
          "output_type": "stream",
          "text": [
            "126/126 [==============================] - 0s 1ms/step - loss: 89.8128 - mean_absolute_error: 7.2137 - accuracy: 0.0000e+00 - mean_squared_error: 89.8128\n"
          ],
          "name": "stdout"
        }
      ]
    },
    {
      "cell_type": "markdown",
      "metadata": {
        "id": "VaNLAkIrEluG",
        "colab_type": "text"
      },
      "source": [
        "## Graph the results"
      ]
    },
    {
      "cell_type": "code",
      "metadata": {
        "id": "A9ZJxv-DIzmb",
        "colab_type": "code",
        "colab": {
          "base_uri": "https://localhost:8080/",
          "height": 279
        },
        "outputId": "17546a9b-9350-4ced-bd55-16bd8237818a"
      },
      "source": [
        "def plot_history(history):\n",
        "  plt.figure()\n",
        "  plt.xlabel('Epoch')\n",
        "  plt.ylabel('Mean Absolute Error')\n",
        "  plt.plot(history['epoch'], history['mean_absolute_error'],\n",
        "           label='Train Mean Absolute Error')\n",
        "  plt.plot(history['epoch'], history['val_mean_absolute_error'],\n",
        "           label = 'Val Mean Absolute Error')\n",
        "  plt.legend()\n",
        "  #plt.ylim([0,1])\n",
        "  plt.show()\n",
        "\n",
        "plot_history(hist)"
      ],
      "execution_count": null,
      "outputs": [
        {
          "output_type": "display_data",
          "data": {
            "image/png": "[encoded data removed]",
            "text/plain": [
              "<Figure size 432x288 with 1 Axes>"
            ]
          },
          "metadata": {
            "tags": [],
            "needs_background": "light"
          }
        }
      ]
    },
    {
      "cell_type": "markdown",
      "metadata": {
        "id": "-ie5K7lBOkCF",
        "colab_type": "text"
      },
      "source": [
        "## Graph Meaning  \n",
        "Your graph might vary but there are certain things that I like to look at when determining if my network is up to the standard expected.  \n",
        "1. Overfitting: Does the validation error graph start to increase at the end. If it starts going up we have trained too much  \n",
        "2. Epochs: Do I need to train longer or shorter. In my case, my validation error levels off around 20 epochs. I could look into uses less epochs.\n",
        "3. Error Rate: After I make sure that my training looks good I check to see if the error rate is acceptable. 7 points of variance is quite a lot when it comes to a basketball game. That is the difference between a win and losing by 6. But, since humans are involved and I don't have unlimited resources I am happy with this value. In a later milestone we do some tuning to try and lower this."
      ]
    }
  ]
}