{
  "nbformat": 4,
  "nbformat_minor": 0,
  "metadata": {
    "colab": {
      "name": "Milestone4_Answers.ipynb",
      "provenance": [],
      "authorship_tag": "ABX9TyO+ODxP4GvGgHWYrF4myk6T"
    },
    "kernelspec": {
      "name": "python3",
      "display_name": "Python 3"
    }
  },
  "cells": [
    {
      "cell_type": "markdown",
      "metadata": {
        "id": "zX_Sz4Aht4Dw",
        "colab_type": "text"
      },
      "source": [
        "# Common Training Errors"
      ]
    },
    {
      "cell_type": "markdown",
      "metadata": {
        "id": "muSAI9kIuuwR",
        "colab_type": "text"
      },
      "source": [
        "## Overfitting  \n",
        "\n",
        "As stated in milestone 3, the cause of overfitting is having the network learn the training data and not generalizing to new data. To detect overfitting you need to look at the results from your training and validation data sets. Once you start to see the validation errors rise while the training errors fall you are starting to over fit.  \n",
        "\n",
        "To simulate overfitting (over fit to your training data so your network won't generalize to real data) I am going to create the exact same neural network from milestone 3"
      ]
    },
    {
      "cell_type": "code",
      "metadata": {
        "id": "02V4WuhQtzuR",
        "colab_type": "code",
        "colab": {}
      },
      "source": [
        "from __future__ import absolute_import, division, print_function\n",
        "\n",
        "import tensorflow as tf\n",
        "from tensorflow import keras\n",
        "\n",
        "import pandas as pd\n",
        "import numpy as np\n",
        "import matplotlib.pyplot as plt"
      ],
      "execution_count": null,
      "outputs": []
    },
    {
      "cell_type": "code",
      "metadata": {
        "id": "yxPrXpE4u9g6",
        "colab_type": "code",
        "colab": {}
      },
      "source": [
        "# This method will be used in place of the normal output. This is cleaner in my opinion\n",
        "class PrintDoc(keras.callbacks.Callback):\n",
        "  def on_epoch_end(self, epoch, logs):\n",
        "    if epoch % 10 == 0: print('')\n",
        "    print('.', end='')\n",
        "    \n",
        "def Build_Model():\n",
        "  model = keras.models.Sequential([\n",
        "    keras.layers.Dense(32, activation='relu', input_shape=[6]),\n",
        "    keras.layers.Dense(32, activation='relu'),\n",
        "    keras.layers.Dense(1)                                   \n",
        "  ])\n",
        "  \n",
        "  opt = keras.optimizers.RMSprop()\n",
        "  m = [\n",
        "       keras.metrics.MeanAbsoluteError(),\n",
        "       keras.metrics.Accuracy(),\n",
        "       keras.metrics.MeanSquaredError()\n",
        "  ]\n",
        "  l = keras.losses.MeanSquaredError()\n",
        "  \n",
        "  model.compile(loss=l, optimizer=opt, metrics=m)\n",
        "  return model\n",
        "\n",
        "overfitmodel = Build_Model()"
      ],
      "execution_count": null,
      "outputs": []
    },
    {
      "cell_type": "markdown",
      "metadata": {
        "id": "COzDcnE7vRLf",
        "colab_type": "text"
      },
      "source": [
        "Generate the DataFrames"
      ]
    },
    {
      "cell_type": "code",
      "metadata": {
        "id": "4d8dUVqqvT9r",
        "colab_type": "code",
        "colab": {
          "base_uri": "https://localhost:8080/",
          "height": 51
        },
        "outputId": "921cd7fa-2ddb-453a-c34a-a3eb833f691c"
      },
      "source": [
        "#Load the data set from the last milestone 1\n",
        "column_names = ['Date','HomeTeam','HomeScore','AwayTeam','AwayScore',\n",
        "                'HomeScoreAverage','HomeDefenseAverage','AwayScoreAverage','AwayDefenseAverage',\n",
        "                'Result']\n",
        "\n",
        "games_csv = 'https://liveproject-resources.s3.amazonaws.com/other/deeplearningbasketballscores/Games-Calculated.csv'\n",
        "all_data = pd.read_csv(games_csv, header=None, names=column_names)\n",
        "\n",
        "# Drop the columns that we are NOT going to train on\n",
        "all_data.drop(['Date','HomeTeam','HomeScore','AwayTeam','AwayScore'], axis=1, inplace=True)\n",
        "all_data.tail()\n",
        "\n",
        "#Break it into 80/20 splits\n",
        "train = all_data.sample(frac=0.8, random_state=0)\n",
        "test = all_data.drop(train.index)\n",
        "print('Training Size: %s' % train.shape[0])\n",
        "print('Testing Size: %s' % test.shape[0])\n",
        "\n",
        "#Create the labels\n",
        "train_labels = train.pop('Result')\n",
        "test_labels = test.pop('Result')\n",
        "\n",
        "# Normalize the data\n",
        "mean = train.mean(axis=0)\n",
        "train_data = train - mean\n",
        "std = train_data.std(axis=0)\n",
        "train_data /= std\n",
        "\n",
        "test_data = test - mean\n",
        "test_data /= std"
      ],
      "execution_count": null,
      "outputs": [
        {
          "output_type": "stream",
          "text": [
            "Training Size: 16128\n",
            "Testing Size: 4032\n"
          ],
          "name": "stdout"
        }
      ]
    },
    {
      "cell_type": "markdown",
      "metadata": {
        "id": "vSDOgzirCfqK",
        "colab_type": "text"
      },
      "source": [
        "## Over training  \n",
        "\n",
        "One thing to notice here is that I am using 1,000 epochs to train this network. What happens with a neural network with too much training is that it starts to work for just the data is knows. If you look at the resulting graph you can start to see the error for the validation starts to rise while the error for the training drops."
      ]
    },
    {
      "cell_type": "code",
      "metadata": {
        "id": "TnJZxa4DvfD7",
        "colab_type": "code",
        "colab": {}
      },
      "source": [
        "history = overfitmodel.fit(train_data, train_labels, epochs=1000, validation_split=0.2, verbose=0, callbacks=[PrintDoc()])"
      ],
      "execution_count": null,
      "outputs": []
    },
    {
      "cell_type": "code",
      "metadata": {
        "id": "Y84TWpcXyVSI",
        "colab_type": "code",
        "colab": {
          "base_uri": "https://localhost:8080/",
          "height": 279
        },
        "outputId": "bb91bc19-7802-46c6-935a-1114c7c8c444"
      },
      "source": [
        "# Check the results\n",
        "# Create a DataFrame from the output from the fit method\n",
        "hist = pd.DataFrame(history.history)\n",
        "# Create an epoch column and set it to the epoch index\n",
        "hist['epoch'] = history.epoch\n",
        "\n",
        "def plot_history(history):\n",
        "  plt.figure()\n",
        "  plt.xlabel('Epoch')\n",
        "  plt.ylabel('Mean Absolute Error')\n",
        "  plt.plot(history['epoch'], history['mean_absolute_error'],\n",
        "           label='Train Mean Absolute Error')\n",
        "  plt.plot(history['epoch'], history['val_mean_absolute_error'],\n",
        "           label = 'Val Mean Absolute Error')\n",
        "  plt.legend()\n",
        "  #plt.ylim([0,1])\n",
        "  plt.show()\n",
        "\n",
        "plot_history(hist)"
      ],
      "execution_count": null,
      "outputs": [
        {
          "output_type": "display_data",
          "data": {
            "image/png": "[encoded data removed]",
            "text/plain": [
              "<Figure size 432x288 with 1 Axes>"
            ]
          },
          "metadata": {
            "tags": [],
            "needs_background": "light"
          }
        }
      ]
    },
    {
      "cell_type": "markdown",
      "metadata": {
        "id": "hSHtQ7gvQqAq",
        "colab_type": "text"
      },
      "source": [
        "## Graph Meaning  \n",
        "Using the guide from milestone 3 we can see that we are overfitting. The first thing I check is to look if the validation error rate is starting to rise again. This graph makes it very clear that we are overfitting to the training data."
      ]
    }
  ]
}